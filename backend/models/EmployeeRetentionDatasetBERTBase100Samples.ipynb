{
  "nbformat": 4,
  "nbformat_minor": 0,
  "metadata": {
    "colab": {
      "provenance": [],
      "gpuType": "T4"
    },
    "kernelspec": {
      "name": "python3",
      "display_name": "Python 3"
    },
    "language_info": {
      "name": "python"
    },
    "widgets": {
      "application/vnd.jupyter.widget-state+json": {
        "0a3bb9aca1d94a798cc621608ae76439": {
          "model_module": "@jupyter-widgets/controls",
          "model_name": "HBoxModel",
          "model_module_version": "1.5.0",
          "state": {
            "_dom_classes": [],
            "_model_module": "@jupyter-widgets/controls",
            "_model_module_version": "1.5.0",
            "_model_name": "HBoxModel",
            "_view_count": null,
            "_view_module": "@jupyter-widgets/controls",
            "_view_module_version": "1.5.0",
            "_view_name": "HBoxView",
            "box_style": "",
            "children": [
              "IPY_MODEL_fa55abc712ad477089b2ba5bf4a5b2a0",
              "IPY_MODEL_de7aff396b7146fe956b1d0bf5fe3260",
              "IPY_MODEL_842aca82efeb4c2fa6d49dcc0fdb1149"
            ],
            "layout": "IPY_MODEL_7c33a21eb4e0486081a0a58dab5f01d0"
          }
        },
        "fa55abc712ad477089b2ba5bf4a5b2a0": {
          "model_module": "@jupyter-widgets/controls",
          "model_name": "HTMLModel",
          "model_module_version": "1.5.0",
          "state": {
            "_dom_classes": [],
            "_model_module": "@jupyter-widgets/controls",
            "_model_module_version": "1.5.0",
            "_model_name": "HTMLModel",
            "_view_count": null,
            "_view_module": "@jupyter-widgets/controls",
            "_view_module_version": "1.5.0",
            "_view_name": "HTMLView",
            "description": "",
            "description_tooltip": null,
            "layout": "IPY_MODEL_65ad5676ab064efb9f9dfceb595bd45d",
            "placeholder": "​",
            "style": "IPY_MODEL_304128d339b74abfbc0a30e8cbb030ed",
            "value": "Map: 100%"
          }
        },
        "de7aff396b7146fe956b1d0bf5fe3260": {
          "model_module": "@jupyter-widgets/controls",
          "model_name": "FloatProgressModel",
          "model_module_version": "1.5.0",
          "state": {
            "_dom_classes": [],
            "_model_module": "@jupyter-widgets/controls",
            "_model_module_version": "1.5.0",
            "_model_name": "FloatProgressModel",
            "_view_count": null,
            "_view_module": "@jupyter-widgets/controls",
            "_view_module_version": "1.5.0",
            "_view_name": "ProgressView",
            "bar_style": "success",
            "description": "",
            "description_tooltip": null,
            "layout": "IPY_MODEL_2048257af38349068281ec3c3e21a18d",
            "max": 4050,
            "min": 0,
            "orientation": "horizontal",
            "style": "IPY_MODEL_dce6553f8f07436eb3f5d78c51b137e0",
            "value": 4050
          }
        },
        "842aca82efeb4c2fa6d49dcc0fdb1149": {
          "model_module": "@jupyter-widgets/controls",
          "model_name": "HTMLModel",
          "model_module_version": "1.5.0",
          "state": {
            "_dom_classes": [],
            "_model_module": "@jupyter-widgets/controls",
            "_model_module_version": "1.5.0",
            "_model_name": "HTMLModel",
            "_view_count": null,
            "_view_module": "@jupyter-widgets/controls",
            "_view_module_version": "1.5.0",
            "_view_name": "HTMLView",
            "description": "",
            "description_tooltip": null,
            "layout": "IPY_MODEL_fe3442fbdbc34c11851b0a487d1caedb",
            "placeholder": "​",
            "style": "IPY_MODEL_a60506c19faa45e793bcc1e879de8a2c",
            "value": " 4050/4050 [00:02&lt;00:00, 1641.67 examples/s]"
          }
        },
        "7c33a21eb4e0486081a0a58dab5f01d0": {
          "model_module": "@jupyter-widgets/base",
          "model_name": "LayoutModel",
          "model_module_version": "1.2.0",
          "state": {
            "_model_module": "@jupyter-widgets/base",
            "_model_module_version": "1.2.0",
            "_model_name": "LayoutModel",
            "_view_count": null,
            "_view_module": "@jupyter-widgets/base",
            "_view_module_version": "1.2.0",
            "_view_name": "LayoutView",
            "align_content": null,
            "align_items": null,
            "align_self": null,
            "border": null,
            "bottom": null,
            "display": null,
            "flex": null,
            "flex_flow": null,
            "grid_area": null,
            "grid_auto_columns": null,
            "grid_auto_flow": null,
            "grid_auto_rows": null,
            "grid_column": null,
            "grid_gap": null,
            "grid_row": null,
            "grid_template_areas": null,
            "grid_template_columns": null,
            "grid_template_rows": null,
            "height": null,
            "justify_content": null,
            "justify_items": null,
            "left": null,
            "margin": null,
            "max_height": null,
            "max_width": null,
            "min_height": null,
            "min_width": null,
            "object_fit": null,
            "object_position": null,
            "order": null,
            "overflow": null,
            "overflow_x": null,
            "overflow_y": null,
            "padding": null,
            "right": null,
            "top": null,
            "visibility": null,
            "width": null
          }
        },
        "65ad5676ab064efb9f9dfceb595bd45d": {
          "model_module": "@jupyter-widgets/base",
          "model_name": "LayoutModel",
          "model_module_version": "1.2.0",
          "state": {
            "_model_module": "@jupyter-widgets/base",
            "_model_module_version": "1.2.0",
            "_model_name": "LayoutModel",
            "_view_count": null,
            "_view_module": "@jupyter-widgets/base",
            "_view_module_version": "1.2.0",
            "_view_name": "LayoutView",
            "align_content": null,
            "align_items": null,
            "align_self": null,
            "border": null,
            "bottom": null,
            "display": null,
            "flex": null,
            "flex_flow": null,
            "grid_area": null,
            "grid_auto_columns": null,
            "grid_auto_flow": null,
            "grid_auto_rows": null,
            "grid_column": null,
            "grid_gap": null,
            "grid_row": null,
            "grid_template_areas": null,
            "grid_template_columns": null,
            "grid_template_rows": null,
            "height": null,
            "justify_content": null,
            "justify_items": null,
            "left": null,
            "margin": null,
            "max_height": null,
            "max_width": null,
            "min_height": null,
            "min_width": null,
            "object_fit": null,
            "object_position": null,
            "order": null,
            "overflow": null,
            "overflow_x": null,
            "overflow_y": null,
            "padding": null,
            "right": null,
            "top": null,
            "visibility": null,
            "width": null
          }
        },
        "304128d339b74abfbc0a30e8cbb030ed": {
          "model_module": "@jupyter-widgets/controls",
          "model_name": "DescriptionStyleModel",
          "model_module_version": "1.5.0",
          "state": {
            "_model_module": "@jupyter-widgets/controls",
            "_model_module_version": "1.5.0",
            "_model_name": "DescriptionStyleModel",
            "_view_count": null,
            "_view_module": "@jupyter-widgets/base",
            "_view_module_version": "1.2.0",
            "_view_name": "StyleView",
            "description_width": ""
          }
        },
        "2048257af38349068281ec3c3e21a18d": {
          "model_module": "@jupyter-widgets/base",
          "model_name": "LayoutModel",
          "model_module_version": "1.2.0",
          "state": {
            "_model_module": "@jupyter-widgets/base",
            "_model_module_version": "1.2.0",
            "_model_name": "LayoutModel",
            "_view_count": null,
            "_view_module": "@jupyter-widgets/base",
            "_view_module_version": "1.2.0",
            "_view_name": "LayoutView",
            "align_content": null,
            "align_items": null,
            "align_self": null,
            "border": null,
            "bottom": null,
            "display": null,
            "flex": null,
            "flex_flow": null,
            "grid_area": null,
            "grid_auto_columns": null,
            "grid_auto_flow": null,
            "grid_auto_rows": null,
            "grid_column": null,
            "grid_gap": null,
            "grid_row": null,
            "grid_template_areas": null,
            "grid_template_columns": null,
            "grid_template_rows": null,
            "height": null,
            "justify_content": null,
            "justify_items": null,
            "left": null,
            "margin": null,
            "max_height": null,
            "max_width": null,
            "min_height": null,
            "min_width": null,
            "object_fit": null,
            "object_position": null,
            "order": null,
            "overflow": null,
            "overflow_x": null,
            "overflow_y": null,
            "padding": null,
            "right": null,
            "top": null,
            "visibility": null,
            "width": null
          }
        },
        "dce6553f8f07436eb3f5d78c51b137e0": {
          "model_module": "@jupyter-widgets/controls",
          "model_name": "ProgressStyleModel",
          "model_module_version": "1.5.0",
          "state": {
            "_model_module": "@jupyter-widgets/controls",
            "_model_module_version": "1.5.0",
            "_model_name": "ProgressStyleModel",
            "_view_count": null,
            "_view_module": "@jupyter-widgets/base",
            "_view_module_version": "1.2.0",
            "_view_name": "StyleView",
            "bar_color": null,
            "description_width": ""
          }
        },
        "fe3442fbdbc34c11851b0a487d1caedb": {
          "model_module": "@jupyter-widgets/base",
          "model_name": "LayoutModel",
          "model_module_version": "1.2.0",
          "state": {
            "_model_module": "@jupyter-widgets/base",
            "_model_module_version": "1.2.0",
            "_model_name": "LayoutModel",
            "_view_count": null,
            "_view_module": "@jupyter-widgets/base",
            "_view_module_version": "1.2.0",
            "_view_name": "LayoutView",
            "align_content": null,
            "align_items": null,
            "align_self": null,
            "border": null,
            "bottom": null,
            "display": null,
            "flex": null,
            "flex_flow": null,
            "grid_area": null,
            "grid_auto_columns": null,
            "grid_auto_flow": null,
            "grid_auto_rows": null,
            "grid_column": null,
            "grid_gap": null,
            "grid_row": null,
            "grid_template_areas": null,
            "grid_template_columns": null,
            "grid_template_rows": null,
            "height": null,
            "justify_content": null,
            "justify_items": null,
            "left": null,
            "margin": null,
            "max_height": null,
            "max_width": null,
            "min_height": null,
            "min_width": null,
            "object_fit": null,
            "object_position": null,
            "order": null,
            "overflow": null,
            "overflow_x": null,
            "overflow_y": null,
            "padding": null,
            "right": null,
            "top": null,
            "visibility": null,
            "width": null
          }
        },
        "a60506c19faa45e793bcc1e879de8a2c": {
          "model_module": "@jupyter-widgets/controls",
          "model_name": "DescriptionStyleModel",
          "model_module_version": "1.5.0",
          "state": {
            "_model_module": "@jupyter-widgets/controls",
            "_model_module_version": "1.5.0",
            "_model_name": "DescriptionStyleModel",
            "_view_count": null,
            "_view_module": "@jupyter-widgets/base",
            "_view_module_version": "1.2.0",
            "_view_name": "StyleView",
            "description_width": ""
          }
        },
        "ed5630e4864e4bd69374b0fec0cf3529": {
          "model_module": "@jupyter-widgets/controls",
          "model_name": "HBoxModel",
          "model_module_version": "1.5.0",
          "state": {
            "_dom_classes": [],
            "_model_module": "@jupyter-widgets/controls",
            "_model_module_version": "1.5.0",
            "_model_name": "HBoxModel",
            "_view_count": null,
            "_view_module": "@jupyter-widgets/controls",
            "_view_module_version": "1.5.0",
            "_view_name": "HBoxView",
            "box_style": "",
            "children": [
              "IPY_MODEL_cb704583a98e42aea80bbe29d8714bd7",
              "IPY_MODEL_379e8fad21b34dbe9ad17b4b4ed77588",
              "IPY_MODEL_d30d0427afed4428864f6abd9740a90a"
            ],
            "layout": "IPY_MODEL_a7ff993fbca9464d9769d61e33c57343"
          }
        },
        "cb704583a98e42aea80bbe29d8714bd7": {
          "model_module": "@jupyter-widgets/controls",
          "model_name": "HTMLModel",
          "model_module_version": "1.5.0",
          "state": {
            "_dom_classes": [],
            "_model_module": "@jupyter-widgets/controls",
            "_model_module_version": "1.5.0",
            "_model_name": "HTMLModel",
            "_view_count": null,
            "_view_module": "@jupyter-widgets/controls",
            "_view_module_version": "1.5.0",
            "_view_name": "HTMLView",
            "description": "",
            "description_tooltip": null,
            "layout": "IPY_MODEL_8db95b76d8cd4501b9fe248b3e9dc13b",
            "placeholder": "​",
            "style": "IPY_MODEL_24fd03ac6c31409e95975e40b5af90f3",
            "value": "Map: 100%"
          }
        },
        "379e8fad21b34dbe9ad17b4b4ed77588": {
          "model_module": "@jupyter-widgets/controls",
          "model_name": "FloatProgressModel",
          "model_module_version": "1.5.0",
          "state": {
            "_dom_classes": [],
            "_model_module": "@jupyter-widgets/controls",
            "_model_module_version": "1.5.0",
            "_model_name": "FloatProgressModel",
            "_view_count": null,
            "_view_module": "@jupyter-widgets/controls",
            "_view_module_version": "1.5.0",
            "_view_name": "ProgressView",
            "bar_style": "success",
            "description": "",
            "description_tooltip": null,
            "layout": "IPY_MODEL_1000b5547ac04850a8652ac9b40952e1",
            "max": 450,
            "min": 0,
            "orientation": "horizontal",
            "style": "IPY_MODEL_2344e1235b5a495292c96b397c469c59",
            "value": 450
          }
        },
        "d30d0427afed4428864f6abd9740a90a": {
          "model_module": "@jupyter-widgets/controls",
          "model_name": "HTMLModel",
          "model_module_version": "1.5.0",
          "state": {
            "_dom_classes": [],
            "_model_module": "@jupyter-widgets/controls",
            "_model_module_version": "1.5.0",
            "_model_name": "HTMLModel",
            "_view_count": null,
            "_view_module": "@jupyter-widgets/controls",
            "_view_module_version": "1.5.0",
            "_view_name": "HTMLView",
            "description": "",
            "description_tooltip": null,
            "layout": "IPY_MODEL_137ac24a8d4f4f209c8bf9cb409c79d6",
            "placeholder": "​",
            "style": "IPY_MODEL_21d1dcc5873b4603ba98255f6e6dc72d",
            "value": " 450/450 [00:00&lt;00:00, 1034.02 examples/s]"
          }
        },
        "a7ff993fbca9464d9769d61e33c57343": {
          "model_module": "@jupyter-widgets/base",
          "model_name": "LayoutModel",
          "model_module_version": "1.2.0",
          "state": {
            "_model_module": "@jupyter-widgets/base",
            "_model_module_version": "1.2.0",
            "_model_name": "LayoutModel",
            "_view_count": null,
            "_view_module": "@jupyter-widgets/base",
            "_view_module_version": "1.2.0",
            "_view_name": "LayoutView",
            "align_content": null,
            "align_items": null,
            "align_self": null,
            "border": null,
            "bottom": null,
            "display": null,
            "flex": null,
            "flex_flow": null,
            "grid_area": null,
            "grid_auto_columns": null,
            "grid_auto_flow": null,
            "grid_auto_rows": null,
            "grid_column": null,
            "grid_gap": null,
            "grid_row": null,
            "grid_template_areas": null,
            "grid_template_columns": null,
            "grid_template_rows": null,
            "height": null,
            "justify_content": null,
            "justify_items": null,
            "left": null,
            "margin": null,
            "max_height": null,
            "max_width": null,
            "min_height": null,
            "min_width": null,
            "object_fit": null,
            "object_position": null,
            "order": null,
            "overflow": null,
            "overflow_x": null,
            "overflow_y": null,
            "padding": null,
            "right": null,
            "top": null,
            "visibility": null,
            "width": null
          }
        },
        "8db95b76d8cd4501b9fe248b3e9dc13b": {
          "model_module": "@jupyter-widgets/base",
          "model_name": "LayoutModel",
          "model_module_version": "1.2.0",
          "state": {
            "_model_module": "@jupyter-widgets/base",
            "_model_module_version": "1.2.0",
            "_model_name": "LayoutModel",
            "_view_count": null,
            "_view_module": "@jupyter-widgets/base",
            "_view_module_version": "1.2.0",
            "_view_name": "LayoutView",
            "align_content": null,
            "align_items": null,
            "align_self": null,
            "border": null,
            "bottom": null,
            "display": null,
            "flex": null,
            "flex_flow": null,
            "grid_area": null,
            "grid_auto_columns": null,
            "grid_auto_flow": null,
            "grid_auto_rows": null,
            "grid_column": null,
            "grid_gap": null,
            "grid_row": null,
            "grid_template_areas": null,
            "grid_template_columns": null,
            "grid_template_rows": null,
            "height": null,
            "justify_content": null,
            "justify_items": null,
            "left": null,
            "margin": null,
            "max_height": null,
            "max_width": null,
            "min_height": null,
            "min_width": null,
            "object_fit": null,
            "object_position": null,
            "order": null,
            "overflow": null,
            "overflow_x": null,
            "overflow_y": null,
            "padding": null,
            "right": null,
            "top": null,
            "visibility": null,
            "width": null
          }
        },
        "24fd03ac6c31409e95975e40b5af90f3": {
          "model_module": "@jupyter-widgets/controls",
          "model_name": "DescriptionStyleModel",
          "model_module_version": "1.5.0",
          "state": {
            "_model_module": "@jupyter-widgets/controls",
            "_model_module_version": "1.5.0",
            "_model_name": "DescriptionStyleModel",
            "_view_count": null,
            "_view_module": "@jupyter-widgets/base",
            "_view_module_version": "1.2.0",
            "_view_name": "StyleView",
            "description_width": ""
          }
        },
        "1000b5547ac04850a8652ac9b40952e1": {
          "model_module": "@jupyter-widgets/base",
          "model_name": "LayoutModel",
          "model_module_version": "1.2.0",
          "state": {
            "_model_module": "@jupyter-widgets/base",
            "_model_module_version": "1.2.0",
            "_model_name": "LayoutModel",
            "_view_count": null,
            "_view_module": "@jupyter-widgets/base",
            "_view_module_version": "1.2.0",
            "_view_name": "LayoutView",
            "align_content": null,
            "align_items": null,
            "align_self": null,
            "border": null,
            "bottom": null,
            "display": null,
            "flex": null,
            "flex_flow": null,
            "grid_area": null,
            "grid_auto_columns": null,
            "grid_auto_flow": null,
            "grid_auto_rows": null,
            "grid_column": null,
            "grid_gap": null,
            "grid_row": null,
            "grid_template_areas": null,
            "grid_template_columns": null,
            "grid_template_rows": null,
            "height": null,
            "justify_content": null,
            "justify_items": null,
            "left": null,
            "margin": null,
            "max_height": null,
            "max_width": null,
            "min_height": null,
            "min_width": null,
            "object_fit": null,
            "object_position": null,
            "order": null,
            "overflow": null,
            "overflow_x": null,
            "overflow_y": null,
            "padding": null,
            "right": null,
            "top": null,
            "visibility": null,
            "width": null
          }
        },
        "2344e1235b5a495292c96b397c469c59": {
          "model_module": "@jupyter-widgets/controls",
          "model_name": "ProgressStyleModel",
          "model_module_version": "1.5.0",
          "state": {
            "_model_module": "@jupyter-widgets/controls",
            "_model_module_version": "1.5.0",
            "_model_name": "ProgressStyleModel",
            "_view_count": null,
            "_view_module": "@jupyter-widgets/base",
            "_view_module_version": "1.2.0",
            "_view_name": "StyleView",
            "bar_color": null,
            "description_width": ""
          }
        },
        "137ac24a8d4f4f209c8bf9cb409c79d6": {
          "model_module": "@jupyter-widgets/base",
          "model_name": "LayoutModel",
          "model_module_version": "1.2.0",
          "state": {
            "_model_module": "@jupyter-widgets/base",
            "_model_module_version": "1.2.0",
            "_model_name": "LayoutModel",
            "_view_count": null,
            "_view_module": "@jupyter-widgets/base",
            "_view_module_version": "1.2.0",
            "_view_name": "LayoutView",
            "align_content": null,
            "align_items": null,
            "align_self": null,
            "border": null,
            "bottom": null,
            "display": null,
            "flex": null,
            "flex_flow": null,
            "grid_area": null,
            "grid_auto_columns": null,
            "grid_auto_flow": null,
            "grid_auto_rows": null,
            "grid_column": null,
            "grid_gap": null,
            "grid_row": null,
            "grid_template_areas": null,
            "grid_template_columns": null,
            "grid_template_rows": null,
            "height": null,
            "justify_content": null,
            "justify_items": null,
            "left": null,
            "margin": null,
            "max_height": null,
            "max_width": null,
            "min_height": null,
            "min_width": null,
            "object_fit": null,
            "object_position": null,
            "order": null,
            "overflow": null,
            "overflow_x": null,
            "overflow_y": null,
            "padding": null,
            "right": null,
            "top": null,
            "visibility": null,
            "width": null
          }
        },
        "21d1dcc5873b4603ba98255f6e6dc72d": {
          "model_module": "@jupyter-widgets/controls",
          "model_name": "DescriptionStyleModel",
          "model_module_version": "1.5.0",
          "state": {
            "_model_module": "@jupyter-widgets/controls",
            "_model_module_version": "1.5.0",
            "_model_name": "DescriptionStyleModel",
            "_view_count": null,
            "_view_module": "@jupyter-widgets/base",
            "_view_module_version": "1.2.0",
            "_view_name": "StyleView",
            "description_width": ""
          }
        }
      }
    },
    "accelerator": "GPU"
  },
  "cells": [
    {
      "cell_type": "code",
      "source": [
        "from google.colab import drive\n",
        "drive.mount('/content/drive')"
      ],
      "metadata": {
        "colab": {
          "base_uri": "https://localhost:8080/"
        },
        "id": "eQvJmeZpPt1Y",
        "outputId": "48288b9f-e308-4ce4-d747-61e320c8e7b7"
      },
      "execution_count": 1,
      "outputs": [
        {
          "output_type": "stream",
          "name": "stdout",
          "text": [
            "Drive already mounted at /content/drive; to attempt to forcibly remount, call drive.mount(\"/content/drive\", force_remount=True).\n"
          ]
        }
      ]
    },
    {
      "cell_type": "code",
      "source": [
        "!pip install sentence-transformers datasets transformers"
      ],
      "metadata": {
        "colab": {
          "base_uri": "https://localhost:8080/"
        },
        "collapsed": true,
        "id": "b1vt2SbKR7Rz",
        "outputId": "2eade841-0936-4030-8733-25a5a58e3b90"
      },
      "execution_count": 2,
      "outputs": [
        {
          "output_type": "stream",
          "name": "stdout",
          "text": [
            "Requirement already satisfied: sentence-transformers in /usr/local/lib/python3.10/dist-packages (3.3.1)\n",
            "Requirement already satisfied: datasets in /usr/local/lib/python3.10/dist-packages (3.2.0)\n",
            "Requirement already satisfied: transformers in /usr/local/lib/python3.10/dist-packages (4.47.1)\n",
            "Requirement already satisfied: tqdm in /usr/local/lib/python3.10/dist-packages (from sentence-transformers) (4.67.1)\n",
            "Requirement already satisfied: torch>=1.11.0 in /usr/local/lib/python3.10/dist-packages (from sentence-transformers) (2.5.1+cu121)\n",
            "Requirement already satisfied: scikit-learn in /usr/local/lib/python3.10/dist-packages (from sentence-transformers) (1.6.0)\n",
            "Requirement already satisfied: scipy in /usr/local/lib/python3.10/dist-packages (from sentence-transformers) (1.13.1)\n",
            "Requirement already satisfied: huggingface-hub>=0.20.0 in /usr/local/lib/python3.10/dist-packages (from sentence-transformers) (0.27.1)\n",
            "Requirement already satisfied: Pillow in /usr/local/lib/python3.10/dist-packages (from sentence-transformers) (11.1.0)\n",
            "Requirement already satisfied: filelock in /usr/local/lib/python3.10/dist-packages (from datasets) (3.16.1)\n",
            "Requirement already satisfied: numpy>=1.17 in /usr/local/lib/python3.10/dist-packages (from datasets) (1.26.4)\n",
            "Requirement already satisfied: pyarrow>=15.0.0 in /usr/local/lib/python3.10/dist-packages (from datasets) (17.0.0)\n",
            "Requirement already satisfied: dill<0.3.9,>=0.3.0 in /usr/local/lib/python3.10/dist-packages (from datasets) (0.3.8)\n",
            "Requirement already satisfied: pandas in /usr/local/lib/python3.10/dist-packages (from datasets) (2.2.2)\n",
            "Requirement already satisfied: requests>=2.32.2 in /usr/local/lib/python3.10/dist-packages (from datasets) (2.32.3)\n",
            "Requirement already satisfied: xxhash in /usr/local/lib/python3.10/dist-packages (from datasets) (3.5.0)\n",
            "Requirement already satisfied: multiprocess<0.70.17 in /usr/local/lib/python3.10/dist-packages (from datasets) (0.70.16)\n",
            "Requirement already satisfied: fsspec<=2024.9.0,>=2023.1.0 in /usr/local/lib/python3.10/dist-packages (from fsspec[http]<=2024.9.0,>=2023.1.0->datasets) (2024.9.0)\n",
            "Requirement already satisfied: aiohttp in /usr/local/lib/python3.10/dist-packages (from datasets) (3.11.11)\n",
            "Requirement already satisfied: packaging in /usr/local/lib/python3.10/dist-packages (from datasets) (24.2)\n",
            "Requirement already satisfied: pyyaml>=5.1 in /usr/local/lib/python3.10/dist-packages (from datasets) (6.0.2)\n",
            "Requirement already satisfied: regex!=2019.12.17 in /usr/local/lib/python3.10/dist-packages (from transformers) (2024.11.6)\n",
            "Requirement already satisfied: tokenizers<0.22,>=0.21 in /usr/local/lib/python3.10/dist-packages (from transformers) (0.21.0)\n",
            "Requirement already satisfied: safetensors>=0.4.1 in /usr/local/lib/python3.10/dist-packages (from transformers) (0.5.0)\n",
            "Requirement already satisfied: aiohappyeyeballs>=2.3.0 in /usr/local/lib/python3.10/dist-packages (from aiohttp->datasets) (2.4.4)\n",
            "Requirement already satisfied: aiosignal>=1.1.2 in /usr/local/lib/python3.10/dist-packages (from aiohttp->datasets) (1.3.2)\n",
            "Requirement already satisfied: async-timeout<6.0,>=4.0 in /usr/local/lib/python3.10/dist-packages (from aiohttp->datasets) (4.0.3)\n",
            "Requirement already satisfied: attrs>=17.3.0 in /usr/local/lib/python3.10/dist-packages (from aiohttp->datasets) (24.3.0)\n",
            "Requirement already satisfied: frozenlist>=1.1.1 in /usr/local/lib/python3.10/dist-packages (from aiohttp->datasets) (1.5.0)\n",
            "Requirement already satisfied: multidict<7.0,>=4.5 in /usr/local/lib/python3.10/dist-packages (from aiohttp->datasets) (6.1.0)\n",
            "Requirement already satisfied: propcache>=0.2.0 in /usr/local/lib/python3.10/dist-packages (from aiohttp->datasets) (0.2.1)\n",
            "Requirement already satisfied: yarl<2.0,>=1.17.0 in /usr/local/lib/python3.10/dist-packages (from aiohttp->datasets) (1.18.3)\n",
            "Requirement already satisfied: typing-extensions>=3.7.4.3 in /usr/local/lib/python3.10/dist-packages (from huggingface-hub>=0.20.0->sentence-transformers) (4.12.2)\n",
            "Requirement already satisfied: charset-normalizer<4,>=2 in /usr/local/lib/python3.10/dist-packages (from requests>=2.32.2->datasets) (3.4.1)\n",
            "Requirement already satisfied: idna<4,>=2.5 in /usr/local/lib/python3.10/dist-packages (from requests>=2.32.2->datasets) (3.10)\n",
            "Requirement already satisfied: urllib3<3,>=1.21.1 in /usr/local/lib/python3.10/dist-packages (from requests>=2.32.2->datasets) (2.3.0)\n",
            "Requirement already satisfied: certifi>=2017.4.17 in /usr/local/lib/python3.10/dist-packages (from requests>=2.32.2->datasets) (2024.12.14)\n",
            "Requirement already satisfied: networkx in /usr/local/lib/python3.10/dist-packages (from torch>=1.11.0->sentence-transformers) (3.4.2)\n",
            "Requirement already satisfied: jinja2 in /usr/local/lib/python3.10/dist-packages (from torch>=1.11.0->sentence-transformers) (3.1.5)\n",
            "Requirement already satisfied: sympy==1.13.1 in /usr/local/lib/python3.10/dist-packages (from torch>=1.11.0->sentence-transformers) (1.13.1)\n",
            "Requirement already satisfied: mpmath<1.4,>=1.1.0 in /usr/local/lib/python3.10/dist-packages (from sympy==1.13.1->torch>=1.11.0->sentence-transformers) (1.3.0)\n",
            "Requirement already satisfied: python-dateutil>=2.8.2 in /usr/local/lib/python3.10/dist-packages (from pandas->datasets) (2.8.2)\n",
            "Requirement already satisfied: pytz>=2020.1 in /usr/local/lib/python3.10/dist-packages (from pandas->datasets) (2024.2)\n",
            "Requirement already satisfied: tzdata>=2022.7 in /usr/local/lib/python3.10/dist-packages (from pandas->datasets) (2024.2)\n",
            "Requirement already satisfied: joblib>=1.2.0 in /usr/local/lib/python3.10/dist-packages (from scikit-learn->sentence-transformers) (1.4.2)\n",
            "Requirement already satisfied: threadpoolctl>=3.1.0 in /usr/local/lib/python3.10/dist-packages (from scikit-learn->sentence-transformers) (3.5.0)\n",
            "Requirement already satisfied: six>=1.5 in /usr/local/lib/python3.10/dist-packages (from python-dateutil>=2.8.2->pandas->datasets) (1.17.0)\n",
            "Requirement already satisfied: MarkupSafe>=2.0 in /usr/local/lib/python3.10/dist-packages (from jinja2->torch>=1.11.0->sentence-transformers) (3.0.2)\n"
          ]
        }
      ]
    },
    {
      "cell_type": "code",
      "source": [
        "import pandas as pd\n",
        "import re\n",
        "\n",
        "\n",
        "# read input document\n",
        "X = pd.read_csv('/content/train_set.csv')\n",
        "X = X[['feedback', 'label']]\n",
        "\n",
        "\n",
        "X['feedback'] = X['feedback'].apply(lambda x: x.lower())\n",
        "X['feedback'] = X['feedback'].apply((lambda x: re.sub('[^a-zA-z0-9\\s]', '', x)))\n",
        "\n",
        "\n",
        "df = pd.read_csv('/content/test_set.csv')\n",
        "df = df[['feedback', 'label']]\n",
        "\n",
        "df['feedback'] = df['feedback'].apply(lambda x: x.lower())\n",
        "df['feedback'] = df['feedback'].apply((lambda x: re.sub('[^a-zA-z0-9\\s]', '', x)))\n",
        "\n",
        "\n",
        "\n",
        "V = pd.read_csv('/content/validation_set.csv')\n",
        "V = V[['feedback', 'label']]\n",
        "\n",
        "V['feedback'] = V['feedback'].apply(lambda x: x.lower())\n",
        "V['feedback'] = V['feedback'].apply((lambda x: re.sub('[^a-zA-z0-9\\s]', '', x)))\n",
        "\n"
      ],
      "metadata": {
        "id": "_QmVZvCkekl6"
      },
      "execution_count": 3,
      "outputs": []
    },
    {
      "cell_type": "code",
      "source": [
        "print(\"Train Set\")\n",
        "print(X.shape)\n",
        "print(X['label'].value_counts())\n",
        "\n",
        "print(\"Test Set\")\n",
        "print(df.shape)\n",
        "print(df['label'].value_counts())\n",
        "\n",
        "print(\"Validation Set\")\n",
        "print(V.shape)\n",
        "print(V['label'].value_counts())\n",
        "\n",
        "print(\"Concatenated Dataset\")\n",
        "dataset=pd.concat([X,df,V])\n",
        "print(dataset.shape)"
      ],
      "metadata": {
        "colab": {
          "base_uri": "https://localhost:8080/"
        },
        "id": "ae-vQ2AmRPhL",
        "outputId": "5f2125b7-d375-4141-ab63-2bb2135e5388"
      },
      "execution_count": 4,
      "outputs": [
        {
          "output_type": "stream",
          "name": "stdout",
          "text": [
            "Train Set\n",
            "(656, 2)\n",
            "label\n",
            "0    97\n",
            "4    88\n",
            "8    87\n",
            "3    80\n",
            "1    72\n",
            "2    70\n",
            "5    66\n",
            "7    65\n",
            "6    31\n",
            "Name: count, dtype: int64\n",
            "Test Set\n",
            "(225, 2)\n",
            "label\n",
            "0    25\n",
            "1    25\n",
            "2    25\n",
            "3    25\n",
            "4    25\n",
            "5    25\n",
            "6    25\n",
            "7    25\n",
            "8    25\n",
            "Name: count, dtype: int64\n",
            "Validation Set\n",
            "(116, 2)\n",
            "label\n",
            "0    17\n",
            "4    16\n",
            "8    16\n",
            "3    14\n",
            "1    13\n",
            "2    12\n",
            "5    12\n",
            "7    11\n",
            "6     5\n",
            "Name: count, dtype: int64\n",
            "Concatenated Dataset\n",
            "(997, 2)\n"
          ]
        }
      ]
    },
    {
      "cell_type": "code",
      "source": [
        "\n",
        "print(dataset['label'].value_counts())\n",
        "print(dataset.info())\n",
        "sampled_df = dataset.groupby('label').sample(n=100, random_state=1,replace=True,)\n",
        "\n",
        "print(sampled_df['label'].value_counts())\n",
        "print(sampled_df.info())\n"
      ],
      "metadata": {
        "colab": {
          "base_uri": "https://localhost:8080/"
        },
        "id": "oA0n9AflCWpK",
        "outputId": "893decc0-c9b4-4492-aa1a-0b2403599dad"
      },
      "execution_count": 5,
      "outputs": [
        {
          "output_type": "stream",
          "name": "stdout",
          "text": [
            "label\n",
            "0    139\n",
            "4    129\n",
            "8    128\n",
            "3    119\n",
            "1    110\n",
            "2    107\n",
            "5    103\n",
            "7    101\n",
            "6     61\n",
            "Name: count, dtype: int64\n",
            "<class 'pandas.core.frame.DataFrame'>\n",
            "Index: 997 entries, 0 to 115\n",
            "Data columns (total 2 columns):\n",
            " #   Column    Non-Null Count  Dtype \n",
            "---  ------    --------------  ----- \n",
            " 0   feedback  997 non-null    object\n",
            " 1   label     997 non-null    int64 \n",
            "dtypes: int64(1), object(1)\n",
            "memory usage: 23.4+ KB\n",
            "None\n",
            "label\n",
            "0    100\n",
            "1    100\n",
            "2    100\n",
            "3    100\n",
            "4    100\n",
            "5    100\n",
            "6    100\n",
            "7    100\n",
            "8    100\n",
            "Name: count, dtype: int64\n",
            "<class 'pandas.core.frame.DataFrame'>\n",
            "Index: 900 entries, 37 to 115\n",
            "Data columns (total 2 columns):\n",
            " #   Column    Non-Null Count  Dtype \n",
            "---  ------    --------------  ----- \n",
            " 0   feedback  900 non-null    object\n",
            " 1   label     900 non-null    int64 \n",
            "dtypes: int64(1), object(1)\n",
            "memory usage: 21.1+ KB\n",
            "None\n"
          ]
        }
      ]
    },
    {
      "cell_type": "code",
      "source": [
        "import random\n",
        "from nltk.corpus import wordnet\n",
        "import nltk\n",
        "nltk.download('wordnet')\n",
        "\n",
        "\n",
        "def synonym_replacement(sentence, n):\n",
        "    words = sentence.split()\n",
        "    new_words = words.copy()\n",
        "    random_word_list = list(set([word for word in words if wordnet.synsets(word)]))\n",
        "    random.shuffle(random_word_list)\n",
        "    num_replaced = 0\n",
        "    for random_word in random_word_list:\n",
        "        synonyms = get_synonyms(random_word)\n",
        "        if len(synonyms) >= 1:\n",
        "            synonym = random.choice(synonyms)\n",
        "            new_words = [synonym if word == random_word else word for word in new_words]\n",
        "            num_replaced += 1\n",
        "        if num_replaced >= n:  # only replace up to n words\n",
        "            break\n",
        "\n",
        "    sentence = ' '.join(new_words)\n",
        "    return sentence\n",
        "\n",
        "def get_synonyms(word):\n",
        "    synonyms = set()\n",
        "    for syn in wordnet.synsets(word):\n",
        "        for l in syn.lemmas():\n",
        "            synonyms.add(l.name())\n",
        "    if word in synonyms:\n",
        "        synonyms.remove(word)\n",
        "    return list(synonyms)\n",
        "\n",
        "def random_insertion(sentence, n):\n",
        "    words = sentence.split()\n",
        "    for _ in range(n):\n",
        "        new_word = get_synonyms(random.choice(words))\n",
        "        if new_word:\n",
        "            words.insert(random.randint(0, len(words)), random.choice(new_word))\n",
        "    return ' '.join(words)\n",
        "\n",
        "def random_swap(sentence, n):\n",
        "    words = sentence.split()\n",
        "    for _ in range(n):\n",
        "        idx1, idx2 = random.sample(range(len(words)), 2)\n",
        "        words[idx1], words[idx2] = words[idx2], words[idx1]\n",
        "    return ' '.join(words)\n",
        "\n",
        "def random_deletion(sentence, p):\n",
        "    words = sentence.split()\n",
        "    if len(words) == 1:  # return if single word\n",
        "        return sentence\n",
        "\n",
        "    new_words = []\n",
        "    for word in words:\n",
        "        if random.uniform(0, 1) > p:\n",
        "            new_words.append(word)\n",
        "    if len(new_words) == 0:  # ensure at least one word remains\n",
        "        new_words.append(random.choice(words))\n",
        "    return ' '.join(new_words)\n",
        "\n",
        "# Example usage:\n",
        "sentence = \"This is a sample sentence for data augmentation.\"\n",
        "\n",
        "sentence = \"john has not progressed in his position he is continuously late leaves early and takes many breaks throughout the day he calls out at least every other week and its always on fridays his performance has significantly declined my suggestion is he is not suitable for this position\"\n",
        "\n",
        "print(\"Original Sentence:\", sentence)\n",
        "print(\"Synonym Replacement:\", synonym_replacement(sentence, 10))\n",
        "print(\"Random Insertion:\", random_insertion(sentence, 10))\n",
        "print(\"Random Swap:\", random_swap(sentence, 10))\n",
        "print(\"Random Deletion:\", random_deletion(sentence, 0.4))\n",
        "\n",
        "\n"
      ],
      "metadata": {
        "colab": {
          "base_uri": "https://localhost:8080/"
        },
        "id": "VmiLCTJJ6FSK",
        "outputId": "583d0358-af12-4d9d-9f9c-c433ab179604"
      },
      "execution_count": 6,
      "outputs": [
        {
          "output_type": "stream",
          "name": "stderr",
          "text": [
            "[nltk_data] Downloading package wordnet to /root/nltk_data...\n",
            "[nltk_data]   Package wordnet is already up-to-date!\n"
          ]
        },
        {
          "output_type": "stream",
          "name": "stdout",
          "text": [
            "Original Sentence: john has not progressed in his position he is continuously late leaves early and takes many breaks throughout the day he calls out at least every other week and its always on fridays his performance has significantly declined my suggestion is he is not suitable for this position\n",
            "Synonym Replacement: john has non progressed in his position he follow continuously late leaves early and takes many happy_chance passim the solar_day he hollo out at to_the_lowest_degree every former week and its invariably on fridays his carrying_out has significantly declined my suggestion follow he follow non suitable for this position\n",
            "Random Insertion: invariably john has not progressed in his comprise position expose he is continuously late along leaves early and takes many breaks spot throughout the day he calls out at least every other week and its always Hoosier_State on fridays his performance has significantly latterly declined my suggestion is he is not on suitable for this position\n",
            "Random Swap: his takes not significantly early his position he is continuously late position day and has many breaks throughout the in he calls out at least every other week and its always on is this performance my leaves declined has suggestion is he fridays not suitable for john progressed\n",
            "Random Deletion: john progressed in his position late early and many breaks the day he out at other week on his performance declined my suggestion is he is suitable for position\n"
          ]
        }
      ]
    },
    {
      "cell_type": "code",
      "source": [
        "import numpy as np\n",
        "# Original data\n",
        "original_sentences = list(sampled_df['feedback'].values)\n",
        "original_labels = list(sampled_df['label'].values)\n",
        "\n",
        "# Augmented data\n",
        "augmented_sentences = []\n",
        "for sentence in original_sentences:\n",
        "    augmented_sentences.append(synonym_replacement(sentence, 10))\n",
        "    augmented_sentences.append(random_insertion(sentence, 10))\n",
        "    augmented_sentences.append(random_swap(sentence, 10))\n",
        "    augmented_sentences.append(random_deletion(sentence, 0.3))\n",
        "\n",
        "# Combine original and augmented data\n",
        "all_sentences = original_sentences + augmented_sentences\n",
        "\n",
        "# Repeat labels for the augmented sentences\n",
        "augmented_labels = np.repeat(original_labels, 4)  # assuming each sentence generates 4 augmented versions\n",
        "all_labels = np.concatenate((original_labels, augmented_labels))\n",
        "\n",
        "print(len(all_sentences),len(all_labels))"
      ],
      "metadata": {
        "colab": {
          "base_uri": "https://localhost:8080/"
        },
        "id": "EPsIGhFt6O2R",
        "outputId": "3b072434-5077-4dc2-c869-9538cbd1b957"
      },
      "execution_count": 7,
      "outputs": [
        {
          "output_type": "stream",
          "name": "stdout",
          "text": [
            "4500 4500\n"
          ]
        }
      ]
    },
    {
      "cell_type": "code",
      "source": [
        "m=0\n",
        "for i in all_sentences:\n",
        "  m=max(m,len(i.split()))\n",
        "print(\"Maximum Words\",m)"
      ],
      "metadata": {
        "colab": {
          "base_uri": "https://localhost:8080/"
        },
        "id": "Tsly2elZC6Wt",
        "outputId": "48f804b3-d26c-40ef-a7ac-e203ca35cb83"
      },
      "execution_count": 8,
      "outputs": [
        {
          "output_type": "stream",
          "name": "stdout",
          "text": [
            "Maximum Words 133\n"
          ]
        }
      ]
    },
    {
      "cell_type": "code",
      "source": [
        "from sklearn.model_selection import train_test_split\n",
        "\n",
        "x_train,x_test,y_train,y_test=train_test_split(all_sentences,all_labels,test_size=0.1,random_state=50)"
      ],
      "metadata": {
        "id": "7qDegpBeC7p0"
      },
      "execution_count": 9,
      "outputs": []
    },
    {
      "cell_type": "code",
      "source": [
        "print(\"Training Samples\",len(x_train))\n",
        "print(\"Testing Samples\",len(x_test))"
      ],
      "metadata": {
        "colab": {
          "base_uri": "https://localhost:8080/"
        },
        "id": "wi2kEL1PC-al",
        "outputId": "888eb42b-12b8-4b5b-bf15-f4caf18f15af"
      },
      "execution_count": 10,
      "outputs": [
        {
          "output_type": "stream",
          "name": "stdout",
          "text": [
            "Training Samples 4050\n",
            "Testing Samples 450\n"
          ]
        }
      ]
    },
    {
      "cell_type": "code",
      "source": [
        "x_train[:5],y_train[:5]"
      ],
      "metadata": {
        "colab": {
          "base_uri": "https://localhost:8080/"
        },
        "id": "DNGLIEEvDAAe",
        "outputId": "cc771897-dfed-48c1-d848-7ab415f32b7e"
      },
      "execution_count": 11,
      "outputs": [
        {
          "output_type": "execute_result",
          "data": {
            "text/plain": [
              "(['celine is one attitude the beat employees filters have to she in comes date with a the of and that we through into her work any time we have an issue she is complete to accept positive the she improve in that particular area and stays after hours to ensure everything for criticism day is quick and we know she has a bright future ahead of her',\n",
              "  'peter like laid back person this company needs all employees to put maximum effort and itt clear through his he has impressive history of experiences and talent to succeed this position must focus on projects entirely and on time',\n",
              "  'celine clayton cost an right-down joyousness to work with and be around she has a can suffice attitude and everybody seems to delight her presence on round_top of this she performs At a in_high_spirits level than anyone else in the office and can out compete anyone celine has an exceedingly bright future here and will surely wax up in the ranks fast',\n",
              "  'rachel harper is an a1 employee punctuality is there consistency there and her quality of work among the best sure of her to excel higher as her communication a she could however develop those skills time as the potential for her',\n",
              "  'bruno johns He atomic_number_2 is person who performs really type_A great he atomic_number_2 is a solid performer execute he also St._Bruno does his best in every job assigned but the inwards potential of real bruno johns is low as_well'],\n",
              " array([8, 3, 8, 5, 2]))"
            ]
          },
          "metadata": {},
          "execution_count": 11
        }
      ]
    },
    {
      "cell_type": "code",
      "source": [
        "def preprocess_function(examples):\n",
        "    return tokenizer(examples[\"text\"], truncation=True)"
      ],
      "metadata": {
        "id": "G9euHlT2SN4m"
      },
      "execution_count": 12,
      "outputs": []
    },
    {
      "cell_type": "code",
      "source": [
        "from datasets import Dataset\n",
        "train_df = pd.DataFrame({'text': x_train, 'label': y_train})\n",
        "train_dataset = Dataset.from_pandas(train_df)\n",
        "test_df = pd.DataFrame({'text': x_test, 'label': y_test})\n",
        "test_dataset = Dataset.from_pandas(test_df)"
      ],
      "metadata": {
        "id": "mQqfVMAtSSBa"
      },
      "execution_count": 13,
      "outputs": []
    },
    {
      "cell_type": "code",
      "source": [
        "id2label = {\n",
        "      0: \"Risk (Low performance, Low potential)\",\n",
        "      1: \"Average performer (Moderate performance, Low potential)\",\n",
        "      2: \"Solid Performer (High performance, Low potential)\",\n",
        "      3: \"Inconsistent Player (Low performance, Moderate potential)\",\n",
        "      4: \"Core Player (Moderate performance, Moderate potential)\",\n",
        "      5: \"High Performer (High performance, Moderate potential)\",\n",
        "      6: \"Potential Gem (Low performance, High potential)\",\n",
        "      7: \"High Potential (Moderate performance, High potential)\",\n",
        "      8: \"Star (High performance, High potential)\"\n",
        "            }\n",
        "label2id = {\n",
        "      \"Risk (Low performance, Low potential)\":0,\n",
        "      \"Average performer (Moderate performance, Low potential)\":1,\n",
        "      \"Solid Performer (High performance, Low potential)\":2,\n",
        "      \"Inconsistent Player (Low performance, Moderate potential)\":3,\n",
        "      \"Core Player (Moderate performance, Moderate potential)\":4,\n",
        "      \"High Performer (High performance, Moderate potential)\":5,\n",
        "      \"Potential Gem (Low performance, High potential)\":6,\n",
        "      \"High Potential (Moderate performance, High potential)\":7,\n",
        "      \"Star (High performance, High potential)\":8\n",
        "}"
      ],
      "metadata": {
        "id": "BGOOmPkj9SzH"
      },
      "execution_count": 14,
      "outputs": []
    },
    {
      "cell_type": "code",
      "source": [
        "from transformers import TFAutoModelForSequenceClassification,AutoTokenizer\n",
        "\n",
        "tokenizer = AutoTokenizer.from_pretrained(\"bert-base-uncased\")\n",
        "\n",
        "model = TFAutoModelForSequenceClassification.from_pretrained(\n",
        "    \"bert-base-uncased\", num_labels=9, id2label=id2label, label2id=label2id\n",
        ")"
      ],
      "metadata": {
        "colab": {
          "base_uri": "https://localhost:8080/"
        },
        "id": "2nJwh1n39K8G",
        "outputId": "e8f45c3e-0a02-43e1-804d-214c8d04d6ed"
      },
      "execution_count": 15,
      "outputs": [
        {
          "output_type": "stream",
          "name": "stderr",
          "text": [
            "/usr/local/lib/python3.10/dist-packages/huggingface_hub/utils/_auth.py:94: UserWarning: \n",
            "The secret `HF_TOKEN` does not exist in your Colab secrets.\n",
            "To authenticate with the Hugging Face Hub, create a token in your settings tab (https://huggingface.co/settings/tokens), set it as secret in your Google Colab and restart your session.\n",
            "You will be able to reuse this secret in all of your notebooks.\n",
            "Please note that authentication is recommended but still optional to access public models or datasets.\n",
            "  warnings.warn(\n",
            "All PyTorch model weights were used when initializing TFBertForSequenceClassification.\n",
            "\n",
            "Some weights or buffers of the TF 2.0 model TFBertForSequenceClassification were not initialized from the PyTorch model and are newly initialized: ['classifier.weight', 'classifier.bias']\n",
            "You should probably TRAIN this model on a down-stream task to be able to use it for predictions and inference.\n"
          ]
        }
      ]
    },
    {
      "cell_type": "code",
      "source": [
        "tokenized_train = train_dataset.map(preprocess_function, batched=True)\n",
        "tokenized_test = test_dataset.map(preprocess_function, batched=True)"
      ],
      "metadata": {
        "colab": {
          "base_uri": "https://localhost:8080/",
          "height": 81,
          "referenced_widgets": [
            "0a3bb9aca1d94a798cc621608ae76439",
            "fa55abc712ad477089b2ba5bf4a5b2a0",
            "de7aff396b7146fe956b1d0bf5fe3260",
            "842aca82efeb4c2fa6d49dcc0fdb1149",
            "7c33a21eb4e0486081a0a58dab5f01d0",
            "65ad5676ab064efb9f9dfceb595bd45d",
            "304128d339b74abfbc0a30e8cbb030ed",
            "2048257af38349068281ec3c3e21a18d",
            "dce6553f8f07436eb3f5d78c51b137e0",
            "fe3442fbdbc34c11851b0a487d1caedb",
            "a60506c19faa45e793bcc1e879de8a2c",
            "ed5630e4864e4bd69374b0fec0cf3529",
            "cb704583a98e42aea80bbe29d8714bd7",
            "379e8fad21b34dbe9ad17b4b4ed77588",
            "d30d0427afed4428864f6abd9740a90a",
            "a7ff993fbca9464d9769d61e33c57343",
            "8db95b76d8cd4501b9fe248b3e9dc13b",
            "24fd03ac6c31409e95975e40b5af90f3",
            "1000b5547ac04850a8652ac9b40952e1",
            "2344e1235b5a495292c96b397c469c59",
            "137ac24a8d4f4f209c8bf9cb409c79d6",
            "21d1dcc5873b4603ba98255f6e6dc72d"
          ]
        },
        "id": "H5xxq5AeSU7o",
        "outputId": "7786fb28-0b79-46fc-9936-8aa440fa2860"
      },
      "execution_count": 16,
      "outputs": [
        {
          "output_type": "display_data",
          "data": {
            "text/plain": [
              "Map:   0%|          | 0/4050 [00:00<?, ? examples/s]"
            ],
            "application/vnd.jupyter.widget-view+json": {
              "version_major": 2,
              "version_minor": 0,
              "model_id": "0a3bb9aca1d94a798cc621608ae76439"
            }
          },
          "metadata": {}
        },
        {
          "output_type": "display_data",
          "data": {
            "text/plain": [
              "Map:   0%|          | 0/450 [00:00<?, ? examples/s]"
            ],
            "application/vnd.jupyter.widget-view+json": {
              "version_major": 2,
              "version_minor": 0,
              "model_id": "ed5630e4864e4bd69374b0fec0cf3529"
            }
          },
          "metadata": {}
        }
      ]
    },
    {
      "cell_type": "code",
      "source": [
        "from transformers import DataCollatorWithPadding\n",
        "\n",
        "data_collator = DataCollatorWithPadding(tokenizer=tokenizer, return_tensors=\"tf\")"
      ],
      "metadata": {
        "id": "XABd57r9SWrG"
      },
      "execution_count": 17,
      "outputs": []
    },
    {
      "cell_type": "code",
      "source": [
        "from transformers import create_optimizer\n",
        "import tensorflow as tf\n",
        "\n",
        "batch_size = 16\n",
        "num_epochs = 5\n",
        "batches_per_epoch = len(tokenized_train) // batch_size\n",
        "total_train_steps = int(batches_per_epoch * num_epochs)\n",
        "optimizer, schedule = create_optimizer(init_lr=2e-5, num_warmup_steps=0, num_train_steps=total_train_steps)"
      ],
      "metadata": {
        "id": "tviXQ7K9Tn4S"
      },
      "execution_count": 18,
      "outputs": []
    },
    {
      "cell_type": "code",
      "source": [
        "tf_train_set = model.prepare_tf_dataset(\n",
        "    tokenized_train,\n",
        "    shuffle=True,\n",
        "    batch_size=16,\n",
        "    collate_fn=data_collator,\n",
        ")\n",
        "\n",
        "\n",
        "tf_test_set = model.prepare_tf_dataset(\n",
        "    tokenized_test,\n",
        "    shuffle=False,\n",
        "    batch_size=16,\n",
        "    collate_fn=data_collator,\n",
        ")"
      ],
      "metadata": {
        "id": "J6tXMbbgTs8C"
      },
      "execution_count": 19,
      "outputs": []
    },
    {
      "cell_type": "code",
      "source": [
        "import tensorflow as tf\n",
        "\n",
        "model.compile(optimizer=optimizer,metrics=['accuracy'])  # No loss argument!"
      ],
      "metadata": {
        "id": "n6eto1WOTu2I"
      },
      "execution_count": 20,
      "outputs": []
    },
    {
      "cell_type": "code",
      "source": [
        "history=model.fit(x=tf_train_set, validation_data=tf_test_set, epochs=10)"
      ],
      "metadata": {
        "id": "3IH6wrGNT0f1",
        "colab": {
          "base_uri": "https://localhost:8080/"
        },
        "outputId": "bfe724dc-6412-4114-e6fa-2c14149a6d71"
      },
      "execution_count": 21,
      "outputs": [
        {
          "output_type": "stream",
          "name": "stdout",
          "text": [
            "Epoch 1/10\n",
            "253/253 [==============================] - 153s 422ms/step - loss: 1.9434 - accuracy: 0.2851 - val_loss: 1.3206 - val_accuracy: 0.6511\n",
            "Epoch 2/10\n",
            "253/253 [==============================] - 99s 391ms/step - loss: 0.8104 - accuracy: 0.8273 - val_loss: 0.3545 - val_accuracy: 0.9267\n",
            "Epoch 3/10\n",
            "253/253 [==============================] - 98s 388ms/step - loss: 0.2158 - accuracy: 0.9770 - val_loss: 0.1466 - val_accuracy: 0.9778\n",
            "Epoch 4/10\n",
            "253/253 [==============================] - 98s 387ms/step - loss: 0.0897 - accuracy: 0.9968 - val_loss: 0.0892 - val_accuracy: 0.9844\n",
            "Epoch 5/10\n",
            "253/253 [==============================] - 100s 396ms/step - loss: 0.0590 - accuracy: 1.0000 - val_loss: 0.0794 - val_accuracy: 0.9867\n",
            "Epoch 6/10\n",
            "253/253 [==============================] - 100s 394ms/step - loss: 0.0544 - accuracy: 0.9998 - val_loss: 0.0794 - val_accuracy: 0.9867\n",
            "Epoch 7/10\n",
            "253/253 [==============================] - 98s 389ms/step - loss: 0.0543 - accuracy: 0.9998 - val_loss: 0.0794 - val_accuracy: 0.9867\n",
            "Epoch 8/10\n",
            "253/253 [==============================] - 100s 394ms/step - loss: 0.0542 - accuracy: 0.9995 - val_loss: 0.0794 - val_accuracy: 0.9867\n",
            "Epoch 9/10\n",
            "253/253 [==============================] - 97s 385ms/step - loss: 0.0545 - accuracy: 0.9998 - val_loss: 0.0794 - val_accuracy: 0.9867\n",
            "Epoch 10/10\n",
            "253/253 [==============================] - 99s 393ms/step - loss: 0.0541 - accuracy: 0.9998 - val_loss: 0.0794 - val_accuracy: 0.9867\n"
          ]
        }
      ]
    },
    {
      "cell_type": "code",
      "source": [
        "import matplotlib.pyplot as plt\n",
        "\n",
        "# Plot Accuracy\n",
        "plt.figure(figsize=(10, 5))\n",
        "\n",
        "# Plot training accuracy\n",
        "plt.plot(history.history['accuracy'], color='b', label='Train Accuracy')\n",
        "\n",
        "# Plot validation accuracy\n",
        "plt.plot(history.history['val_accuracy'], color='r', label='Validation Accuracy')\n",
        "\n",
        "# Plot customization\n",
        "plt.title('Model Accuracy')\n",
        "plt.ylabel('Accuracy')\n",
        "plt.xlabel('Epochs')\n",
        "plt.legend(loc='best')\n",
        "plt.grid()\n",
        "\n",
        "# Show the plot\n",
        "plt.show()\n"
      ],
      "metadata": {
        "colab": {
          "base_uri": "https://localhost:8080/",
          "height": 487
        },
        "id": "5h55OYeEDgyK",
        "outputId": "7f5490c8-dfd1-40bf-8c0d-4b98bec9c1b1"
      },
      "execution_count": 22,
      "outputs": [
        {
          "output_type": "display_data",
          "data": {
            "text/plain": [
              "<Figure size 1000x500 with 1 Axes>"
            ],
            "image/png": "[encoded data removed]"
          },
          "metadata": {}
        }
      ]
    },
    {
      "cell_type": "code",
      "source": [
        "# Plot Loss\n",
        "plt.figure(figsize=(10, 5))\n",
        "\n",
        "# Plot training loss\n",
        "plt.plot(history.history['loss'], color='b', label='Train Loss')\n",
        "\n",
        "# Plot validation loss\n",
        "plt.plot(history.history['val_loss'], color='r', label='Validation Loss')\n",
        "\n",
        "# Plot customization\n",
        "plt.title('Model Loss')\n",
        "plt.ylabel('Loss')\n",
        "plt.xlabel('Epochs')\n",
        "plt.legend(loc='best')\n",
        "plt.grid()\n",
        "\n",
        "# Show the plot\n",
        "plt.show()\n"
      ],
      "metadata": {
        "colab": {
          "base_uri": "https://localhost:8080/",
          "height": 487
        },
        "id": "dJU0JrkqDrua",
        "outputId": "1633a04b-85b2-4149-e3d9-542eb211bc23"
      },
      "execution_count": 23,
      "outputs": [
        {
          "output_type": "display_data",
          "data": {
            "text/plain": [
              "<Figure size 1000x500 with 1 Axes>"
            ],
            "image/png": "[encoded data removed]"
          },
          "metadata": {}
        }
      ]
    },
    {
      "cell_type": "code",
      "source": [
        "save_path='/content/drive/MyDrive/EmployeeRetentionBERTBase100Samples'\n",
        "model.save_pretrained(save_path)\n",
        "tokenizer.save_pretrained(save_path)"
      ],
      "metadata": {
        "id": "DZ1EAd3kDucz",
        "colab": {
          "base_uri": "https://localhost:8080/"
        },
        "outputId": "b545b8da-f90a-4b07-eb9d-9b6ba7f62495"
      },
      "execution_count": 24,
      "outputs": [
        {
          "output_type": "execute_result",
          "data": {
            "text/plain": [
              "('/content/drive/MyDrive/EmployeeRetentionBERTBase100Samples/tokenizer_config.json',\n",
              " '/content/drive/MyDrive/EmployeeRetentionBERTBase100Samples/special_tokens_map.json',\n",
              " '/content/drive/MyDrive/EmployeeRetentionBERTBase100Samples/vocab.txt',\n",
              " '/content/drive/MyDrive/EmployeeRetentionBERTBase100Samples/added_tokens.json',\n",
              " '/content/drive/MyDrive/EmployeeRetentionBERTBase100Samples/tokenizer.json')"
            ]
          },
          "metadata": {},
          "execution_count": 24
        }
      ]
    },
    {
      "cell_type": "code",
      "source": [
        "import numpy as np\n",
        "predictions = model.predict(tf_test_set)\n",
        "\n",
        "logits = predictions.logits\n",
        "\n",
        "y_pred = np.argmax(logits, axis=1)\n",
        "\n",
        "y_true = np.array([example['label'] for example in test_dataset])\n"
      ],
      "metadata": {
        "colab": {
          "base_uri": "https://localhost:8080/"
        },
        "id": "749xBIM7QJMd",
        "outputId": "c4ab11b7-be7c-44e7-dcf0-6cba5139da12"
      },
      "execution_count": 25,
      "outputs": [
        {
          "output_type": "stream",
          "name": "stdout",
          "text": [
            "29/29 [==============================] - 7s 126ms/step\n"
          ]
        }
      ]
    },
    {
      "cell_type": "code",
      "source": [
        "from sklearn.metrics import accuracy_score\n",
        "\n",
        "accuracy = accuracy_score(y_true, y_pred)\n",
        "print(f'Accuracy: {accuracy}')\n"
      ],
      "metadata": {
        "colab": {
          "base_uri": "https://localhost:8080/"
        },
        "id": "6BNCJnqKQVzX",
        "outputId": "de84547f-ff0f-48f1-c2fe-b8f335e21cf1"
      },
      "execution_count": 26,
      "outputs": [
        {
          "output_type": "stream",
          "name": "stdout",
          "text": [
            "Accuracy: 0.9866666666666667\n"
          ]
        }
      ]
    },
    {
      "cell_type": "code",
      "source": [
        "from sklearn.metrics import precision_score\n",
        "\n",
        "precision_macro = precision_score(y_true, y_pred, average='macro')\n",
        "precision_micro = precision_score(y_true, y_pred, average='micro')\n",
        "precision_weighted = precision_score(y_true, y_pred, average='weighted')\n",
        "\n",
        "print(f'Macro Precision: {precision_macro:.2f}')\n",
        "print(f'Micro Precision: {precision_micro:.2f}')\n",
        "print(f'Weighted Precision: {precision_weighted:.2f}')\n",
        "\n",
        "from sklearn.metrics import recall_score, f1_score\n",
        "\n",
        "# Assuming you have y_true (true labels) and y_pred (predicted labels)\n",
        "# Example placeholder data:\n",
        "# y_true = ... (true labels)\n",
        "# y_pred = ... (predicted labels)\n",
        "\n",
        "# Calculate Recall for each class\n",
        "recall_macro = recall_score(y_true, y_pred, average='macro')\n",
        "recall_micro = recall_score(y_true, y_pred, average='micro')\n",
        "recall_weighted = recall_score(y_true, y_pred, average='weighted')\n",
        "\n",
        "print(f'Macro Recall: {recall_macro:.2f}')\n",
        "print(f'Micro Recall: {recall_micro:.2f}')\n",
        "print(f'Weighted Recall: {recall_weighted:.2f}')\n",
        "\n",
        "# Calculate F1 Score for each class\n",
        "f1_macro = f1_score(y_true, y_pred, average='macro')\n",
        "f1_micro = f1_score(y_true, y_pred, average='micro')\n",
        "f1_weighted = f1_score(y_true, y_pred, average='weighted')\n",
        "\n",
        "print(f'Macro F1 Score: {f1_macro:.2f}')\n",
        "print(f'Micro F1 Score: {f1_micro:.2f}')\n",
        "print(f'Weighted F1 Score: {f1_weighted:.2f}')\n"
      ],
      "metadata": {
        "colab": {
          "base_uri": "https://localhost:8080/"
        },
        "id": "sZvpm-XrQcKD",
        "outputId": "0cd1c48f-109f-4410-c489-2bf14910221c"
      },
      "execution_count": 27,
      "outputs": [
        {
          "output_type": "stream",
          "name": "stdout",
          "text": [
            "Macro Precision: 0.99\n",
            "Micro Precision: 0.99\n",
            "Weighted Precision: 0.99\n",
            "Macro Recall: 0.99\n",
            "Micro Recall: 0.99\n",
            "Weighted Recall: 0.99\n",
            "Macro F1 Score: 0.99\n",
            "Micro F1 Score: 0.99\n",
            "Weighted F1 Score: 0.99\n"
          ]
        }
      ]
    },
    {
      "cell_type": "code",
      "source": [
        "from sklearn.metrics import roc_auc_score\n",
        "import tensorflow as tf\n",
        "\n",
        "# Convert labels to one-hot encoding\n",
        "num_classes = 9\n",
        "# Convert to one-hot encoding for multi-class ROC AUC calculation\n",
        "y_true_one_hot = tf.keras.utils.to_categorical(y_true, num_classes=num_classes)\n",
        "y_pred_one_hot = tf.keras.utils.to_categorical(y_pred, num_classes=num_classes)\n",
        "\n",
        "# Compute AUC-ROC\n",
        "auc_roc = roc_auc_score(y_true_one_hot, y_pred_one_hot, average='weighted', multi_class='ovr')\n",
        "print(f'AUC-ROC: {auc_roc}')\n"
      ],
      "metadata": {
        "colab": {
          "base_uri": "https://localhost:8080/"
        },
        "id": "hGaZ-mahQf_8",
        "outputId": "352d81e6-c982-4a83-cc3b-1933abedfd73"
      },
      "execution_count": 28,
      "outputs": [
        {
          "output_type": "stream",
          "name": "stdout",
          "text": [
            "AUC-ROC: 0.9924742736916861\n"
          ]
        }
      ]
    },
    {
      "cell_type": "code",
      "source": [
        "from sklearn.metrics import matthews_corrcoef\n",
        "\n",
        "# Compute MCC\n",
        "mcc = matthews_corrcoef(y_true, y_pred)\n",
        "print(f'Matthews Correlation Coefficient: {mcc}')\n"
      ],
      "metadata": {
        "colab": {
          "base_uri": "https://localhost:8080/"
        },
        "id": "gfXwi00zQjH8",
        "outputId": "b30a23a8-18af-444a-def4-1aea1813f20b"
      },
      "execution_count": 29,
      "outputs": [
        {
          "output_type": "stream",
          "name": "stdout",
          "text": [
            "Matthews Correlation Coefficient: 0.98504244498845\n"
          ]
        }
      ]
    },
    {
      "cell_type": "code",
      "source": [
        "from sklearn.metrics import log_loss\n",
        "import numpy as np\n",
        "\n",
        "# Use the logits (model outputs before softmax) or directly the probabilities from the model\n",
        "predictions = model.predict(tf_test_set)\n",
        "\n",
        "# Get logits if using a model output, apply softmax to get probabilities\n",
        "logits = predictions.logits\n",
        "probabilities = tf.nn.softmax(logits, axis=-1).numpy()\n",
        "\n",
        "# Compute Log Loss\n",
        "log_loss_val = log_loss(y_true, probabilities)\n",
        "print(f'Log Loss: {log_loss_val}')\n"
      ],
      "metadata": {
        "colab": {
          "base_uri": "https://localhost:8080/"
        },
        "id": "Id8w7LaiQmik",
        "outputId": "9fa7f25a-e90e-45fa-86de-f500e30a2371"
      },
      "execution_count": 30,
      "outputs": [
        {
          "output_type": "stream",
          "name": "stdout",
          "text": [
            "29/29 [==============================] - 4s 131ms/step\n",
            "Log Loss: 0.07942311534368315\n"
          ]
        }
      ]
    },
    {
      "cell_type": "code",
      "source": [
        "from sklearn.metrics import hamming_loss\n",
        "\n",
        "# Compute Hamming Loss\n",
        "hamming_loss_val = hamming_loss(y_true, y_pred)\n",
        "print(f'Hamming Loss: {hamming_loss_val}')\n"
      ],
      "metadata": {
        "colab": {
          "base_uri": "https://localhost:8080/"
        },
        "id": "XiCkSgorQoLP",
        "outputId": "1db4787d-e3f7-4ce2-e398-0eb4836e6a4b"
      },
      "execution_count": 31,
      "outputs": [
        {
          "output_type": "stream",
          "name": "stdout",
          "text": [
            "Hamming Loss: 0.013333333333333334\n"
          ]
        }
      ]
    },
    {
      "cell_type": "code",
      "source": [
        "from sklearn.metrics import cohen_kappa_score\n",
        "\n",
        "# Compute Cohen's Kappa\n",
        "cohen_kappa = cohen_kappa_score(y_true, y_pred)\n",
        "print(f\"Cohen's Kappa: {cohen_kappa}\")\n"
      ],
      "metadata": {
        "colab": {
          "base_uri": "https://localhost:8080/"
        },
        "id": "I1EkDHKxQopl",
        "outputId": "48fe12a2-81d2-4e20-8939-f204b2ecbf32"
      },
      "execution_count": 32,
      "outputs": [
        {
          "output_type": "stream",
          "name": "stdout",
          "text": [
            "Cohen's Kappa: 0.9849821454395782\n"
          ]
        }
      ]
    },
    {
      "cell_type": "code",
      "source": [
        "import numpy as np\n",
        "import matplotlib.pyplot as plt\n",
        "import seaborn as sns\n",
        "from sklearn.metrics import confusion_matrix\n",
        "\n",
        "# Compute Confusion Matrix\n",
        "conf_matrix = confusion_matrix(y_true, y_pred)\n",
        "\n",
        "# Display Confusion Matrix\n",
        "print(f'Confusion Matrix: \\n{conf_matrix}')\n",
        "\n",
        "# Plot Confusion Matrix\n",
        "plt.figure(figsize=(10,7))\n",
        "sns.heatmap(conf_matrix, annot=True, fmt='d', cmap='Blues')\n",
        "plt.title('Confusion Matrix')\n",
        "plt.xlabel('Predicted Labels')\n",
        "plt.ylabel('True Labels')\n",
        "plt.show()\n"
      ],
      "metadata": {
        "colab": {
          "base_uri": "https://localhost:8080/",
          "height": 815
        },
        "id": "Zj7NM6xsQqEl",
        "outputId": "c3162721-d916-499e-b948-3d75a5f50fac"
      },
      "execution_count": 33,
      "outputs": [
        {
          "output_type": "stream",
          "name": "stdout",
          "text": [
            "Confusion Matrix: \n",
            "[[52  0  0  0  0  0  0  0  0]\n",
            " [ 0 54  0  0  0  0  0  0  0]\n",
            " [ 0  0 47  0  0  0  0  0  0]\n",
            " [ 0  0  0 39  0  0  2  1  0]\n",
            " [ 0  0  0  0 55  0  0  0  0]\n",
            " [ 0  0  0  0  0 44  0  0  2]\n",
            " [ 0  0  0  0  0  0 55  1  0]\n",
            " [ 0  0  0  0  0  0  0 51  0]\n",
            " [ 0  0  0  0  0  0  0  0 47]]\n"
          ]
        },
        {
          "output_type": "display_data",
          "data": {
            "text/plain": [
              "<Figure size 1000x700 with 2 Axes>"
            ],
            "image/png": "[encoded data removed]"
          },
          "metadata": {}
        }
      ]
    },
    {
      "cell_type": "code",
      "source": [
        "from sklearn.metrics import classification_report\n",
        "\n",
        "# Compute Classification Report\n",
        "class_report = classification_report(y_true, y_pred)\n",
        "print(f'Classification Report: \\n{class_report}')\n"
      ],
      "metadata": {
        "colab": {
          "base_uri": "https://localhost:8080/"
        },
        "id": "YMJLaCtzQrt1",
        "outputId": "60375c69-135d-4670-d0d2-d0334ef72d1c"
      },
      "execution_count": 34,
      "outputs": [
        {
          "output_type": "stream",
          "name": "stdout",
          "text": [
            "Classification Report: \n",
            "              precision    recall  f1-score   support\n",
            "\n",
            "           0       1.00      1.00      1.00        52\n",
            "           1       1.00      1.00      1.00        54\n",
            "           2       1.00      1.00      1.00        47\n",
            "           3       1.00      0.93      0.96        42\n",
            "           4       1.00      1.00      1.00        55\n",
            "           5       1.00      0.96      0.98        46\n",
            "           6       0.96      0.98      0.97        56\n",
            "           7       0.96      1.00      0.98        51\n",
            "           8       0.96      1.00      0.98        47\n",
            "\n",
            "    accuracy                           0.99       450\n",
            "   macro avg       0.99      0.99      0.99       450\n",
            "weighted avg       0.99      0.99      0.99       450\n",
            "\n"
          ]
        }
      ]
    },
    {
      "cell_type": "code",
      "source": [],
      "metadata": {
        "id": "rlfRVxBUXTMD"
      },
      "execution_count": 34,
      "outputs": []
    }
  ]
}